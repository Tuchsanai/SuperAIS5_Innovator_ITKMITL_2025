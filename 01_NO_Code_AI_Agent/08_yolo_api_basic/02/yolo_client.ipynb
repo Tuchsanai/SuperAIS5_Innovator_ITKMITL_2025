{
 "cells": [
  {
   "cell_type": "code",
   "execution_count": null,
   "id": "f3ef1c73",
   "metadata": {},
   "outputs": [
    {
     "ename": "",
     "evalue": "",
     "output_type": "error",
     "traceback": [
      "\u001b[1;31mRunning cells with 'torch (Python 3.12.9)' requires the ipykernel package.\n",
      "\u001b[1;31m<a href='command:jupyter.createPythonEnvAndSelectController'>Create a Python Environment</a> with the required packages.\n",
      "\u001b[1;31mOr install 'ipykernel' using the command: 'conda install -n torch ipykernel --update-deps --force-reinstall'"
     ]
    }
   ],
   "source": [
    "import requests\n",
    "import base64\n",
    "from PIL import Image\n",
    "import io\n",
    "import json\n",
    "\n",
    "# Configuration\n",
    "API_URL = \"https://3526-34-123-6-59.ngrok-free.app\"  # Replace with ngrok URL or server URL\n",
    "IMAGE_PATH = .\"..\\cat1.png\"  # Path to your test image\n",
    "PROMPT = \"detect objects\"  # Prompt (unused in YOLO but required)\n",
    "OUTPUT_IMAGE_PATH = \"processed_image.png\"  # Where to save the processed image\n",
    "\n",
    "# Open the image file\n",
    "with open(IMAGE_PATH, \"rb\") as image_file:\n",
    "    # Prepare files and data for POST request\n",
    "    files = {\"file\": (IMAGE_PATH, image_file, \"image/jpeg\")}\n",
    "    data = {\"prompt\": PROMPT}\n",
    "\n",
    "    # Send POST request to the server\n",
    "    response = requests.post(API_URL, files=files, data=data)\n",
    "\n",
    "    # Check if request was successful\n",
    "    if response.status_code == 200:\n",
    "        # Parse JSON response\n",
    "        response_data = response.json()\n",
    "\n",
    "        # Extract and decode base64 image\n",
    "        processed_image_base64 = response_data[\"processed_image\"].split(\",\")[1]\n",
    "        image_data = base64.b64decode(processed_image_base64)\n",
    "        image = Image.open(io.BytesIO(image_data))\n",
    "        image.save(OUTPUT_IMAGE_PATH)\n",
    "        print(f\"Processed image saved to {OUTPUT_IMAGE_PATH}\")\n",
    "\n",
    "        # Print response data\n",
    "        print(\"\\nBounding Boxes:\", json.dumps(response_data[\"bounding_boxes\"], indent=2))\n",
    "        print(\"Classes:\", response_data[\"classes\"])\n",
    "        print(\"Confidences:\", response_data[\"confidences\"])\n",
    "        print(\"Message:\", response_data[\"message\"])\n",
    "    else:\n",
    "        print(f\"Error: {response.status_code} - {response.json().get('error', 'Unknown error')}\")"
   ]
  },
  {
   "cell_type": "code",
   "execution_count": null,
   "id": "a144789e",
   "metadata": {},
   "outputs": [],
   "source": []
  }
 ],
 "metadata": {
  "kernelspec": {
   "display_name": "torch",
   "language": "python",
   "name": "python3"
  },
  "language_info": {
   "name": "python",
   "version": "3.12.9"
  }
 },
 "nbformat": 4,
 "nbformat_minor": 5
}
