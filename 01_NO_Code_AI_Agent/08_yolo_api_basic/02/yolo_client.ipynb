{
 "cells": [
  {
   "cell_type": "code",
   "execution_count": null,
   "id": "f3ef1c73",
   "metadata": {},
   "outputs": [
    {
     "name": "stdout",
     "output_type": "stream",
     "text": [
      "Error: 400 - Unknown error\n"
     ]
    }
   ],
   "source": [
    "import requests\n",
    "import base64\n",
    "from PIL import Image\n",
    "import io\n",
    "import matplotlib.pyplot as plt\n",
    "\n",
    "# Configuration\n",
    "API_URL = \"https://3526-34-123-6-59.ngrok-free.app/process-image/\"  # Update with your FastAPI server URL\n",
    "IMAGE_PATH = \"test_image.png\"  # Path to your test PNG image\n",
    "PROMPT = \"Detect objects\"  # Prompt for the API\n"
   ]
  },
  {
   "cell_type": "code",
   "execution_count": null,
   "id": "a144789e",
   "metadata": {},
   "outputs": [],
   "source": [
    "\n",
    "# Test health check\n",
    "health_url = API_URL.replace(\"process-image/\", \"health\")\n",
    "response = requests.get(health_url)\n",
    "if response.status_code == 200:\n",
    "    print(\"Health Check:\", response.json())\n",
    "else:\n",
    "    print(f\"Health Check Failed: {response.status_code}\")\n"
   ]
  },
  {
   "cell_type": "code",
   "execution_count": null,
   "id": "23ed6c4e",
   "metadata": {},
   "outputs": [],
   "source": [
    "\n",
    "# Test image processing\n",
    "with open(IMAGE_PATH, \"rb\") as image_file:\n",
    "    files = {\"file\": (IMAGE_PATH, image_file, \"image/png\")}\n",
    "    data = {\"prompt\": PROMPT}\n",
    "    response = requests.post(API_URL, files=files, data=data)\n",
    "\n",
    "if response.status_code == 200:\n",
    "    result = response.json()\n",
    "    \n",
    "    # Decode and display processed image\n",
    "    img_data = result[\"processed_image\"].split(\",\")[1]\n",
    "    img_bytes = base64.b64decode(img_data)\n",
    "    img = Image.open(io.BytesIO(img_bytes))\n",
    "    \n",
    "    plt.figure(figsize=(10, 10))\n",
    "    plt.imshow(img)\n",
    "    plt.axis('off')\n",
    "    plt.title(\"Processed Image with Detections\")\n",
    "    plt.show()\n",
    "    \n",
    "    # Print detection results\n",
    "    print(\"Detected Objects:\")\n",
    "    for box, cls, conf in zip(result[\"bounding_boxes\"], result[\"classes\"], result[\"confidences\"]):\n",
    "        print(f\"Class: {cls}, Confidence: {conf:.2f}, Box: {box}\")\n",
    "    \n",
    "    print(\"\\nMessage:\", result[\"message\"])\n",
    "else:\n",
    "    print(f\"Error: {response.status_code}\")\n",
    "    print(response.json())"
   ]
  }
 ],
 "metadata": {
  "kernelspec": {
   "display_name": "torch",
   "language": "python",
   "name": "python3"
  },
  "language_info": {
   "codemirror_mode": {
    "name": "ipython",
    "version": 3
   },
   "file_extension": ".py",
   "mimetype": "text/x-python",
   "name": "python",
   "nbconvert_exporter": "python",
   "pygments_lexer": "ipython3",
   "version": "3.12.7"
  }
 },
 "nbformat": 4,
 "nbformat_minor": 5
}
