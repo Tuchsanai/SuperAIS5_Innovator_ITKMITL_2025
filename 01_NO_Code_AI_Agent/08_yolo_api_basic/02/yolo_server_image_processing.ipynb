{
  "cells": [
    {
      "cell_type": "code",
      "execution_count": 4,
      "metadata": {
        "colab": {
          "base_uri": "https://localhost:8080/"
        },
        "id": "Asbef8W3vdID",
        "outputId": "797fdebd-661b-49a9-9504-154b38b27647"
      },
      "outputs": [
        {
          "name": "stdout",
          "output_type": "stream",
          "text": [
            "Requirement already satisfied: fastapi in /usr/local/lib/python3.11/dist-packages (0.115.12)\n",
            "Requirement already satisfied: uvicorn in /usr/local/lib/python3.11/dist-packages (0.34.2)\n",
            "Requirement already satisfied: pyngrok in /usr/local/lib/python3.11/dist-packages (7.2.5)\n",
            "Collecting python-multipart\n",
            "  Downloading python_multipart-0.0.20-py3-none-any.whl.metadata (1.8 kB)\n",
            "Requirement already satisfied: pillow in /usr/local/lib/python3.11/dist-packages (11.1.0)\n",
            "Requirement already satisfied: nest-asyncio in /usr/local/lib/python3.11/dist-packages (1.6.0)\n",
            "Requirement already satisfied: starlette<0.47.0,>=0.40.0 in /usr/local/lib/python3.11/dist-packages (from fastapi) (0.46.2)\n",
            "Requirement already satisfied: pydantic!=1.8,!=1.8.1,!=2.0.0,!=2.0.1,!=2.1.0,<3.0.0,>=1.7.4 in /usr/local/lib/python3.11/dist-packages (from fastapi) (2.11.3)\n",
            "Requirement already satisfied: typing-extensions>=4.8.0 in /usr/local/lib/python3.11/dist-packages (from fastapi) (4.13.2)\n",
            "Requirement already satisfied: click>=7.0 in /usr/local/lib/python3.11/dist-packages (from uvicorn) (8.1.8)\n",
            "Requirement already satisfied: h11>=0.8 in /usr/local/lib/python3.11/dist-packages (from uvicorn) (0.14.0)\n",
            "Requirement already satisfied: PyYAML>=5.1 in /usr/local/lib/python3.11/dist-packages (from pyngrok) (6.0.2)\n",
            "Requirement already satisfied: annotated-types>=0.6.0 in /usr/local/lib/python3.11/dist-packages (from pydantic!=1.8,!=1.8.1,!=2.0.0,!=2.0.1,!=2.1.0,<3.0.0,>=1.7.4->fastapi) (0.7.0)\n",
            "Requirement already satisfied: pydantic-core==2.33.1 in /usr/local/lib/python3.11/dist-packages (from pydantic!=1.8,!=1.8.1,!=2.0.0,!=2.0.1,!=2.1.0,<3.0.0,>=1.7.4->fastapi) (2.33.1)\n",
            "Requirement already satisfied: typing-inspection>=0.4.0 in /usr/local/lib/python3.11/dist-packages (from pydantic!=1.8,!=1.8.1,!=2.0.0,!=2.0.1,!=2.1.0,<3.0.0,>=1.7.4->fastapi) (0.4.0)\n",
            "Requirement already satisfied: anyio<5,>=3.6.2 in /usr/local/lib/python3.11/dist-packages (from starlette<0.47.0,>=0.40.0->fastapi) (4.9.0)\n",
            "Requirement already satisfied: idna>=2.8 in /usr/local/lib/python3.11/dist-packages (from anyio<5,>=3.6.2->starlette<0.47.0,>=0.40.0->fastapi) (3.10)\n",
            "Requirement already satisfied: sniffio>=1.1 in /usr/local/lib/python3.11/dist-packages (from anyio<5,>=3.6.2->starlette<0.47.0,>=0.40.0->fastapi) (1.3.1)\n",
            "Downloading python_multipart-0.0.20-py3-none-any.whl (24 kB)\n",
            "Installing collected packages: python-multipart\n",
            "Successfully installed python-multipart-0.0.20\n"
          ]
        }
      ],
      "source": [
        "!pip install fastapi uvicorn pyngrok python-multipart pillow nest-asyncio"
      ]
    },
    {
      "cell_type": "code",
      "execution_count": null,
      "metadata": {},
      "outputs": [],
      "source": [
        "!pip install fastapi uvicorn pyngrok opencv-python pillow numpy ultralytics"
      ]
    },
    {
      "cell_type": "code",
      "execution_count": null,
      "metadata": {
        "id": "F3augn0WvFkx"
      },
      "outputs": [],
      "source": [
        "# Import necessary libraries\n",
        "import nest_asyncio\n",
        "import uvicorn\n",
        "from fastapi import FastAPI, File, UploadFile, Form\n",
        "from fastapi.responses import StreamingResponse, JSONResponse\n",
        "from pyngrok import ngrok\n",
        "import cv2\n",
        "import numpy as np\n",
        "from io import BytesIO\n",
        "from PIL import Image\n",
        "import asyncio\n",
        "from ultralytics import YOLO\n",
        "import base64\n",
        "\n",
        "# Apply nest_asyncio to allow running FastAPI in Jupyter\n",
        "nest_asyncio.apply()\n",
        "\n",
        "# Initialize FastAPI app\n",
        "app = FastAPI()\n",
        "\n",
        "# Load YOLOv11 model (choose appropriate model variant: yolov11n, yolov11s, etc.)\n",
        "model = YOLO(\"yolov11n.pt\")  # Download from Ultralytics or specify path to custom weights\n",
        "\n",
        "# Health check endpoint\n",
        "@app.get(\"/health\")\n",
        "async def health_check():\n",
        "    return JSONResponse(content={\"status\": \"healthy\"}, status_code=200)\n",
        "\n",
        "# Define the image processing function with YOLOv11\n",
        "def process_image(image: np.ndarray, prompt: str) -> tuple:\n",
        "    # Perform YOLOv11 inference\n",
        "    results = model(image)\n",
        "    \n",
        "    # Extract detection results\n",
        "    detections = results[0].boxes  # Get bounding boxes\n",
        "    bounding_boxes = detections.xyxy.cpu().numpy().tolist()  # [x1, y1, x2, y2]\n",
        "    confidences = detections.conf.cpu().numpy().tolist()  # Confidence scores\n",
        "    class_ids = detections.cls.cpu().numpy().astype(int).tolist()  # Class IDs\n",
        "    \n",
        "    # Get class names\n",
        "    class_names = [model.names[cls_id] for cls_id in class_ids]\n",
        "    \n",
        "    # Draw bounding boxes on the image\n",
        "    processed_image = image.copy()\n",
        "    for box, conf, cls_name in zip(bounding_boxes, confidences, class_names):\n",
        "        x1, y1, x2, y2 = map(int, box)\n",
        "        # Draw rectangle\n",
        "        cv2.rectangle(processed_image, (x1, y1), (x2, y2), (0, 255, 0), 2)\n",
        "        # Add label\n",
        "        label = f\"{cls_name} {conf:.2f}\"\n",
        "        cv2.putText(processed_image, label, (x1, y1 - 10), \n",
        "                   cv2.FONT_HERSHEY_SIMPLEX, 0.5, (0, 255, 0), 2)\n",
        "    \n",
        "    return processed_image, bounding_boxes, class_names, confidences\n",
        "\n",
        "# FastAPI endpoint to handle image upload and prompt\n",
        "@app.post(\"/process-image/\")\n",
        "async def process_image_endpoint(file: UploadFile = File(...), prompt: str = Form(...)):\n",
        "    try:\n",
        "        # Read the uploaded image\n",
        "        image_data = await file.read()\n",
        "        image = Image.open(BytesIO(image_data)).convert(\"RGB\")\n",
        "        image_np = np.array(image)\n",
        "\n",
        "        # Process the image with YOLOv11\n",
        "        processed_image_np, bounding_boxes, class_names, confidences = process_image(image_np, prompt)\n",
        "\n",
        "        # Convert processed image to base64 for JSON response\n",
        "        processed_image_pil = Image.fromarray(processed_image_np)\n",
        "        buffer = BytesIO()\n",
        "        processed_image_pil.save(buffer, format=\"PNG\")\n",
        "        img_base64 = base64.b64encode(buffer.getvalue()).decode('utf-8')\n",
        "\n",
        "        # Prepare response data\n",
        "        response_data = {\n",
        "            \"processed_image\": f\"data:image/png;base64,{img_base64}\",\n",
        "            \"bounding_boxes\": bounding_boxes,  # [[x1, y1, x2, y2], ...]\n",
        "            \"classes\": class_names,           # [\"class_name1\", \"class_name2\", ...]\n",
        "            \"confidences\": confidences,       # [conf1, conf2, ...]\n",
        "            \"message\": \"Image processed successfully\"\n",
        "        }\n",
        "\n",
        "        return JSONResponse(content=response_data, status_code=200)\n",
        "    \n",
        "    except Exception as e:\n",
        "        return JSONResponse(content={\"error\": str(e)}, status_code=500)\n"
      ]
    },
    {
      "cell_type": "code",
      "execution_count": null,
      "metadata": {},
      "outputs": [],
      "source": [
        "\n",
        "# Function to start ngrok and FastAPI server\n",
        "async def start_server(Token_ngrok):\n",
        "    # Set your ngrok authtoken\n",
        "    ngrok.set_auth_token(Token_ngrok)  # Replace with your ngrok authtoken\n",
        "\n",
        "    # Start ngrok tunnel\n",
        "    public_url = ngrok.connect(8000, bind_tls=True).public_url\n",
        "    print(f\"ngrok public URL: {public_url}\")\n",
        "\n",
        "    # Configure and run the FastAPI server\n",
        "    config = uvicorn.Config(app, host=\"0.0.0.0\", port=8000)\n",
        "    server = uvicorn.Server(config)\n",
        "    await server.serve()\n",
        "\n"
      ]
    },
    {
      "cell_type": "code",
      "execution_count": null,
      "metadata": {},
      "outputs": [],
      "source": []
    },
    {
      "cell_type": "code",
      "execution_count": null,
      "metadata": {},
      "outputs": [],
      "source": [
        "\n",
        "Token_ngrok = \"your_ngrok_token_here\"  # Replace with your actual ngrok token\n",
        "# Run the server\n",
        "asyncio.run(start_server(Token_ngrok))"
      ]
    },
    {
      "cell_type": "markdown",
      "metadata": {
        "id": "Ivzn0NS8vKYC"
      },
      "source": []
    }
  ],
  "metadata": {
    "colab": {
      "provenance": []
    },
    "kernelspec": {
      "display_name": "Python 3",
      "name": "python3"
    },
    "language_info": {
      "name": "python"
    }
  },
  "nbformat": 4,
  "nbformat_minor": 0
}
