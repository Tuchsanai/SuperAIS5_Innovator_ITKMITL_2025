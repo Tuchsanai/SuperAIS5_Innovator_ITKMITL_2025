{
 "cells": [
  {
   "cell_type": "code",
   "execution_count": 1,
   "id": "f757fb75",
   "metadata": {},
   "outputs": [
    {
     "ename": "ModuleNotFoundError",
     "evalue": "No module named 'requests'",
     "output_type": "error",
     "traceback": [
      "\u001b[31m---------------------------------------------------------------------------\u001b[39m",
      "\u001b[31mModuleNotFoundError\u001b[39m                       Traceback (most recent call last)",
      "\u001b[36mCell\u001b[39m\u001b[36m \u001b[39m\u001b[32mIn[1]\u001b[39m\u001b[32m, line 1\u001b[39m\n\u001b[32m----> \u001b[39m\u001b[32m1\u001b[39m \u001b[38;5;28;01mimport\u001b[39;00m\u001b[38;5;250m \u001b[39m\u001b[34;01mrequests\u001b[39;00m\n\u001b[32m      2\u001b[39m \u001b[38;5;28;01mfrom\u001b[39;00m\u001b[38;5;250m \u001b[39m\u001b[34;01mio\u001b[39;00m\u001b[38;5;250m \u001b[39m\u001b[38;5;28;01mimport\u001b[39;00m BytesIO\n\u001b[32m      3\u001b[39m \u001b[38;5;28;01mfrom\u001b[39;00m\u001b[38;5;250m \u001b[39m\u001b[34;01mPIL\u001b[39;00m\u001b[38;5;250m \u001b[39m\u001b[38;5;28;01mimport\u001b[39;00m Image\n",
      "\u001b[31mModuleNotFoundError\u001b[39m: No module named 'requests'"
     ]
    }
   ],
   "source": [
    "import requests\n",
    "from io import BytesIO\n",
    "from PIL import Image\n",
    "\n",
    "# API endpoint URL (replace with your ngrok URL or localhost)\n",
    "API_URL = \"http://localhost:8000/process-image/\"\n",
    "\n",
    "# Test health check\n",
    "response = requests.get(API_URL.replace(\"process-image/\", \"health\"))\n",
    "if response.status_code == 200:\n",
    "    print(\"Health Check:\", response.json())\n",
    "else:\n",
    "    print(f\"Health Check Failed: {response.status_code}\")\n"
   ]
  },
  {
   "cell_type": "code",
   "execution_count": null,
   "id": "ed69e3c8",
   "metadata": {},
   "outputs": [],
   "source": [
    "\n",
    "# Test image processing\n",
    "image_path = \"test_image.png\"  # Replace with your image path\n",
    "prompt = \"grayscale\"\n",
    "\n",
    "with open(image_path, \"rb\") as image_file:\n",
    "    files = {\"file\": (\"image.png\", image_file, \"image/png\")}\n",
    "    data = {\"prompt\": prompt}\n",
    "    response = requests.post(API_URL, files=files, data=data)\n",
    "\n",
    "if response.status_code == 200:\n",
    "    processed_image = Image.open(BytesIO(response.content))\n",
    "    processed_image.save(\"processed_image.png\")\n",
    "    print(\"Image processed and saved as 'processed_image.png'\")\n",
    "else:\n",
    "    print(f\"Image processing failed: {response.status_code}\")\n",
    "    print(response.text)"
   ]
  }
 ],
 "metadata": {
  "kernelspec": {
   "display_name": "Python 3",
   "language": "python",
   "name": "python3"
  },
  "language_info": {
   "codemirror_mode": {
    "name": "ipython",
    "version": 3
   },
   "file_extension": ".py",
   "mimetype": "text/x-python",
   "name": "python",
   "nbconvert_exporter": "python",
   "pygments_lexer": "ipython3",
   "version": "3.12.9"
  }
 },
 "nbformat": 4,
 "nbformat_minor": 5
}
