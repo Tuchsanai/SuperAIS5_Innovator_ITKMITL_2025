{
 "cells": [
  {
   "cell_type": "code",
   "execution_count": 1,
   "metadata": {
    "colab": {
     "base_uri": "https://localhost:8080/"
    },
    "id": "qO-1HlwtFQ-g",
    "outputId": "90a0f877-94a2-451a-e84c-06f8c94b330f"
   },
   "outputs": [
    {
     "name": "stdout",
     "output_type": "stream",
     "text": [
      "Notebook cleaned.\n"
     ]
    }
   ],
   "source": [
    "import IPython\n",
    "import sys\n",
    "\n",
    "def clean_notebook():\n",
    "    IPython.display.clear_output(wait=True)\n",
    "    print(\"Notebook cleaned.\")\n",
    "\n",
    "\n",
    "#!pip install fastapi uvicorn pyngrok  ultralytics  python-multipart\n",
    "# Clean up the notebook\n",
    "clean_notebook()"
   ]
  },
  {
   "cell_type": "markdown",
   "metadata": {},
   "source": [
    "# Load Yolo model"
   ]
  },
  {
   "cell_type": "code",
   "execution_count": 2,
   "metadata": {},
   "outputs": [],
   "source": [
    "import cv2\n",
    "import numpy as np\n",
    "from ultralytics import YOLO\n",
    "\n",
    "\n",
    "# Load YOLOv11 model (choose appropriate model variant: yolov11n, yolov11s, etc.)\n",
    "# Load a model\n",
    "model = YOLO(\"yolo11n.pt\")\n"
   ]
  },
  {
   "cell_type": "markdown",
   "metadata": {},
   "source": [
    "# Run FastAPI"
   ]
  },
  {
   "cell_type": "code",
   "execution_count": 3,
   "metadata": {
    "colab": {
     "base_uri": "https://localhost:8080/"
    },
    "id": "F3augn0WvFkx",
    "outputId": "dac246c9-934d-4c1e-9e75-bd2fd291a5de"
   },
   "outputs": [],
   "source": [
    "# Import necessary libraries\n",
    "import nest_asyncio\n",
    "import uvicorn\n",
    "from fastapi import FastAPI, File, UploadFile, Form\n",
    "from fastapi.responses import StreamingResponse, JSONResponse\n",
    "from pyngrok import ngrok\n",
    "from io import BytesIO\n",
    "from PIL import Image\n",
    "import asyncio\n",
    "import base64\n",
    "\n",
    "# Apply nest_asyncio to allow running FastAPI in Jupyter\n",
    "nest_asyncio.apply()\n",
    "\n",
    "# Initialize FastAPI app\n",
    "app = FastAPI()\n",
    "\n",
    "\n",
    "# Health check endpoint\n",
    "@app.get(\"/health\")\n",
    "async def health_check():\n",
    "    return JSONResponse(content={\"status\": \"healthy\"}, status_code=200)\n",
    "\n",
    "\n",
    "# New endpoint to get all classes\n",
    "@app.get(\"/classes\")\n",
    "async def get_all_classes():\n",
    "    try:\n",
    "        # Get all class names from the model\n",
    "        class_names = model.names  # Assuming model.names is a list or dict of class names\n",
    "        num_classes = len(class_names)\n",
    "        # Create space-separated string of class names\n",
    "        classes_str = \" \".join(class_names.values() if isinstance(class_names, dict) else class_names)\n",
    "        \n",
    "        response_data = {\n",
    "            \"num_classes\": num_classes,\n",
    "            \"classes\": classes_str,\n",
    "            \"message\": \"Classes retrieved successfully\"\n",
    "        }\n",
    "        return JSONResponse(content=response_data, status_code=200)\n",
    "    except Exception as e:\n",
    "        return JSONResponse(content={\"error\": str(e)}, status_code=500)\n",
    "\n",
    "\n",
    "# Define the image processing function with YOLOv11\n",
    "def process_image(image: np.ndarray, prompt: str) -> tuple:\n",
    "    # Perform YOLOv11 inference\n",
    "    results = model(image)\n",
    "\n",
    "    # Extract detection results\n",
    "    detections = results[0].boxes  # Get bounding boxes\n",
    "    bounding_boxes = detections.xyxy.cpu().numpy().tolist()  # [x1, y1, x2, y2]\n",
    "    confidences = detections.conf.cpu().numpy().tolist()  # Confidence scores\n",
    "    class_ids = detections.cls.cpu().numpy().astype(int).tolist()  # Class IDs\n",
    "\n",
    "    # Get class names\n",
    "    class_names = [model.names[cls_id] for cls_id in class_ids]\n",
    "\n",
    "    # Draw bounding boxes on the image\n",
    "    processed_image = image.copy()\n",
    "    for box, conf, cls_name in zip(bounding_boxes, confidences, class_names):\n",
    "        x1, y1, x2, y2 = map(int, box)\n",
    "        # Draw rectangle\n",
    "        cv2.rectangle(processed_image, (x1, y1), (x2, y2), (0, 255, 0), 2)\n",
    "        # Add label\n",
    "        label = f\"{cls_name} {conf:.2f}\"\n",
    "        cv2.putText(processed_image, label, (x1, y1 - 10),\n",
    "                   cv2.FONT_HERSHEY_SIMPLEX, 0.5, (0, 255, 0), 2)\n",
    "\n",
    "    return processed_image, bounding_boxes, class_names, confidences\n",
    "\n",
    "@app.post(\"/process-image/\")\n",
    "async def process_image_endpoint(file: UploadFile = File(...), prompt: str = Form(...)):\n",
    "    try:\n",
    "        # Read the uploaded image\n",
    "        image_data = await file.read()\n",
    "        image = Image.open(BytesIO(image_data)).convert(\"RGB\")\n",
    "        image_np = np.array(image)\n",
    "\n",
    "        # Process the image with YOLOv11\n",
    "        processed_image_np, bounding_boxes, class_names, confidences = process_image(image_np, prompt)\n",
    "\n",
    "        # Convert processed image to base64 for JSON response\n",
    "        processed_image_pil = Image.fromarray(processed_image_np)\n",
    "        buffer = BytesIO()\n",
    "        processed_image_pil.save(buffer, format=\"PNG\")\n",
    "        img_base64 = base64.b64encode(buffer.getvalue()).decode('utf-8')\n",
    "\n",
    "        # Count occurrences of each class\n",
    "        class_counts = {}\n",
    "        for cls_name in class_names:\n",
    "            class_counts[cls_name] = class_counts.get(cls_name, 0) + 1\n",
    "        \n",
    "        # Create class count string (e.g., \"human = 3, motorcycle = 5\")\n",
    "        class_count_str = \", \".join(f\"{cls} = {count}\" for cls, count in class_counts.items())\n",
    "        \n",
    "        # Create string representation of class list\n",
    "        classes_str = str(class_names)\n",
    "        \n",
    "        # Create string representation of confidences\n",
    "        confidences_str = str(confidences)\n",
    "        \n",
    "        # Create string representation of bounding boxes\n",
    "        bounding_boxes_str = str(bounding_boxes)\n",
    "\n",
    "        # Prepare response data\n",
    "        response_data = {\n",
    "            \"processed_image\": f\"{img_base64}\",\n",
    "            \"bounding_boxes\": bounding_boxes,        # [[x1, y1, x2, y2], ...]\n",
    "            \"bounding_boxes_str\": bounding_boxes_str, # String of list\n",
    "            \"classes\": class_names,                 # [\"class_name1\", \"class_name2\", ...]\n",
    "            \"classes_str\": classes_str,             # String of list\n",
    "            \"confidences\": confidences,             # [conf1, conf2, ...]\n",
    "            \"confidences_str\": confidences_str,     # String of list\n",
    "            \"class_counts\": class_count_str,        # \"human = 3, motorcycle = 5\"\n",
    "            \"message\": \"Image processed successfully\"\n",
    "        }\n",
    "\n",
    "        return JSONResponse(content=response_data, status_code=200)\n",
    "\n",
    "    except Exception as e:\n",
    "        return JSONResponse(content={\"error\": str(e)}, status_code=500)"
   ]
  },
  {
   "cell_type": "code",
   "execution_count": 4,
   "metadata": {
    "id": "gQImgVKUFQ-g"
   },
   "outputs": [],
   "source": [
    "\n",
    "# Function to start ngrok and FastAPI server\n",
    "async def start_server(Token_ngrok):\n",
    "    # Set your ngrok authtoken\n",
    "    ngrok.set_auth_token(Token_ngrok)  # Replace with your ngrok authtoken\n",
    "\n",
    "    # Start ngrok tunnel\n",
    "    public_url = ngrok.connect(8000, bind_tls=True).public_url\n",
    "    print(f\"ngrok public URL: {public_url}\")\n",
    "\n",
    "    # Configure and run the FastAPI server\n",
    "    config = uvicorn.Config(app, host=\"0.0.0.0\", port=8000)\n",
    "    server = uvicorn.Server(config)\n",
    "    await server.serve()\n",
    "\n"
   ]
  },
  {
   "cell_type": "code",
   "execution_count": null,
   "metadata": {
    "colab": {
     "base_uri": "https://localhost:8080/"
    },
    "id": "eSFstaBNFQ-h",
    "outputId": "257850db-fa87-4d8a-d361-b9f9aca8c93b"
   },
   "outputs": [
    {
     "name": "stdout",
     "output_type": "stream",
     "text": [
      "ngrok public URL: https://1e47-79-112-4-8.ngrok-free.app\n"
     ]
    },
    {
     "name": "stderr",
     "output_type": "stream",
     "text": [
      "INFO:     Started server process [1363]\n",
      "INFO:     Waiting for application startup.\n",
      "INFO:     Application startup complete.\n",
      "INFO:     Uvicorn running on http://0.0.0.0:8000 (Press CTRL+C to quit)\n"
     ]
    },
    {
     "name": "stdout",
     "output_type": "stream",
     "text": [
      "INFO:     20.218.238.122:0 - \"GET /classes HTTP/1.1\" 200 OK\n"
     ]
    }
   ],
   "source": [
    "\n",
    "Token_ngrok = \"2WPdKpWKTAPyjgMZJ0Wzuzz201h_7ygriY2pbSbNbx8VboPoj\"  # Replace with your actual ngrok token\n",
    "# Run the server\n",
    "asyncio.run(start_server(Token_ngrok))"
   ]
  },
  {
   "cell_type": "markdown",
   "metadata": {
    "id": "Ivzn0NS8vKYC"
   },
   "source": []
  }
 ],
 "metadata": {
  "accelerator": "GPU",
  "colab": {
   "gpuType": "T4",
   "provenance": []
  },
  "kernelspec": {
   "display_name": "Python 3 (ipykernel)",
   "language": "python",
   "name": "python3"
  },
  "language_info": {
   "codemirror_mode": {
    "name": "ipython",
    "version": 3
   },
   "file_extension": ".py",
   "mimetype": "text/x-python",
   "name": "python",
   "nbconvert_exporter": "python",
   "pygments_lexer": "ipython3",
   "version": "3.12.3"
  }
 },
 "nbformat": 4,
 "nbformat_minor": 4
}
