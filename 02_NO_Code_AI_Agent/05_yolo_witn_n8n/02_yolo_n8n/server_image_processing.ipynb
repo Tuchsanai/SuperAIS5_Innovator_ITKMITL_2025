{
  "cells": [
    {
      "cell_type": "code",
      "execution_count": 5,
      "metadata": {
        "colab": {
          "base_uri": "https://localhost:8080/"
        },
        "id": "Asbef8W3vdID",
        "outputId": "797fdebd-661b-49a9-9504-154b38b27647"
      },
      "outputs": [
        {
          "name": "stdout",
          "output_type": "stream",
          "text": [
            "Requirement already satisfied: fastapi in /opt/anaconda3/envs/torch/lib/python3.12/site-packages (0.115.6)\n",
            "Requirement already satisfied: uvicorn in /opt/anaconda3/envs/torch/lib/python3.12/site-packages (0.34.0)\n",
            "Requirement already satisfied: pyngrok in /opt/anaconda3/envs/torch/lib/python3.12/site-packages (7.2.8)\n",
            "Requirement already satisfied: python-multipart in /opt/anaconda3/envs/torch/lib/python3.12/site-packages (0.0.20)\n",
            "Requirement already satisfied: pillow in /opt/anaconda3/envs/torch/lib/python3.12/site-packages (10.2.0)\n",
            "Requirement already satisfied: nest-asyncio in /opt/anaconda3/envs/torch/lib/python3.12/site-packages (1.6.0)\n",
            "Requirement already satisfied: starlette<0.42.0,>=0.40.0 in /opt/anaconda3/envs/torch/lib/python3.12/site-packages (from fastapi) (0.41.3)\n",
            "Requirement already satisfied: pydantic!=1.8,!=1.8.1,!=2.0.0,!=2.0.1,!=2.1.0,<3.0.0,>=1.7.4 in /opt/anaconda3/envs/torch/lib/python3.12/site-packages (from fastapi) (2.10.1)\n",
            "Requirement already satisfied: typing-extensions>=4.8.0 in /opt/anaconda3/envs/torch/lib/python3.12/site-packages (from fastapi) (4.12.2)\n",
            "Requirement already satisfied: click>=7.0 in /opt/anaconda3/envs/torch/lib/python3.12/site-packages (from uvicorn) (8.1.7)\n",
            "Requirement already satisfied: h11>=0.8 in /opt/anaconda3/envs/torch/lib/python3.12/site-packages (from uvicorn) (0.14.0)\n",
            "Requirement already satisfied: PyYAML>=5.1 in /opt/anaconda3/envs/torch/lib/python3.12/site-packages (from pyngrok) (6.0.2)\n",
            "Requirement already satisfied: annotated-types>=0.6.0 in /opt/anaconda3/envs/torch/lib/python3.12/site-packages (from pydantic!=1.8,!=1.8.1,!=2.0.0,!=2.0.1,!=2.1.0,<3.0.0,>=1.7.4->fastapi) (0.7.0)\n",
            "Requirement already satisfied: pydantic-core==2.27.1 in /opt/anaconda3/envs/torch/lib/python3.12/site-packages (from pydantic!=1.8,!=1.8.1,!=2.0.0,!=2.0.1,!=2.1.0,<3.0.0,>=1.7.4->fastapi) (2.27.1)\n",
            "Requirement already satisfied: anyio<5,>=3.4.0 in /opt/anaconda3/envs/torch/lib/python3.12/site-packages (from starlette<0.42.0,>=0.40.0->fastapi) (4.6.2.post1)\n",
            "Requirement already satisfied: idna>=2.8 in /opt/anaconda3/envs/torch/lib/python3.12/site-packages (from anyio<5,>=3.4.0->starlette<0.42.0,>=0.40.0->fastapi) (3.10)\n",
            "Requirement already satisfied: sniffio>=1.1 in /opt/anaconda3/envs/torch/lib/python3.12/site-packages (from anyio<5,>=3.4.0->starlette<0.42.0,>=0.40.0->fastapi) (1.3.1)\n",
            "Requirement already satisfied: python-dotenv in /opt/anaconda3/envs/torch/lib/python3.12/site-packages (1.0.1)\n"
          ]
        }
      ],
      "source": [
        "!pip install fastapi uvicorn pyngrok python-multipart pillow nest-asyncio\n",
        "!pip install python-dotenv\n"
      ]
    },
    {
      "cell_type": "code",
      "execution_count": null,
      "metadata": {},
      "outputs": [],
      "source": [
        "\n",
        "import IPython\n",
        "import sys\n",
        "\n",
        "def clean_notebook():\n",
        "    IPython.display.clear_output(wait=True)\n",
        "    print(\"Notebook cleaned.\")\n",
        "\n",
        "!pip install ultralytics\n",
        "!pip install roboflow\n",
        "\n",
        "# Clean up the notebook\n",
        "clean_notebook()\n",
        "\n"
      ]
    },
    {
      "cell_type": "code",
      "execution_count": null,
      "metadata": {},
      "outputs": [],
      "source": [
        "import cv2\n",
        "import numpy as np\n",
        "from ultralytics import YOLO\n",
        "\n",
        "\n",
        "# Load YOLOv11 model (choose appropriate model variant: yolov11n, yolov11s, etc.)\n",
        "# Load a model\n",
        "model = YOLO(\"yolo11n.pt\")\n"
      ]
    },
    {
      "cell_type": "code",
      "execution_count": null,
      "metadata": {
        "id": "F3augn0WvFkx"
      },
      "outputs": [],
      "source": [
        "# Import necessary libraries\n",
        "import nest_asyncio\n",
        "import uvicorn\n",
        "from fastapi import FastAPI, File, UploadFile, Form\n",
        "from fastapi.responses import StreamingResponse, JSONResponse\n",
        "from pyngrok import ngrok\n",
        "from io import BytesIO\n",
        "from PIL import Image\n",
        "import asyncio\n",
        "import base64\n",
        "\n",
        "# Apply nest_asyncio to allow running FastAPI in Jupyter\n",
        "nest_asyncio.apply()\n",
        "\n",
        "# Initialize FastAPI app\n",
        "app = FastAPI()\n",
        "\n",
        "\n",
        "# Health check endpoint\n",
        "@app.get(\"/health\")\n",
        "async def health_check():\n",
        "    return JSONResponse(content={\"status\": \"healthy\"}, status_code=200)\n",
        "\n",
        "\n",
        "# New endpoint to get all classes\n",
        "@app.get(\"/classes\")\n",
        "async def get_all_classes():\n",
        "    try:\n",
        "        # Get all class names from the model\n",
        "        class_names = model.names  # Assuming model.names is a list or dict of class names\n",
        "        num_classes = len(class_names)\n",
        "        # Create space-separated string of class names\n",
        "        classes_str = \" \".join(class_names.values() if isinstance(class_names, dict) else class_names)\n",
        "        \n",
        "        response_data = {\n",
        "            \"num_classes\": num_classes,\n",
        "            \"classes\": classes_str,\n",
        "            \"message\": \"Classes retrieved successfully\"\n",
        "        }\n",
        "        return JSONResponse(content=response_data, status_code=200)\n",
        "    except Exception as e:\n",
        "        return JSONResponse(content={\"error\": str(e)}, status_code=500)\n",
        "\n",
        "\n",
        "# Define the image processing function with YOLOv11\n",
        "def process_image(image: np.ndarray, prompt: str) -> tuple:\n",
        "    # Perform YOLOv11 inference\n",
        "    results = model(image)\n",
        "\n",
        "    # Extract detection results\n",
        "    detections = results[0].boxes  # Get bounding boxes\n",
        "    bounding_boxes = detections.xyxy.cpu().numpy().tolist()  # [x1, y1, x2, y2]\n",
        "    confidences = detections.conf.cpu().numpy().tolist()  # Confidence scores\n",
        "    class_ids = detections.cls.cpu().numpy().astype(int).tolist()  # Class IDs\n",
        "\n",
        "    # Get class names\n",
        "    class_names = [model.names[cls_id] for cls_id in class_ids]\n",
        "\n",
        "    # Draw bounding boxes on the image\n",
        "    processed_image = image.copy()\n",
        "    for box, conf, cls_name in zip(bounding_boxes, confidences, class_names):\n",
        "        x1, y1, x2, y2 = map(int, box)\n",
        "        # Draw rectangle\n",
        "        cv2.rectangle(processed_image, (x1, y1), (x2, y2), (0, 255, 0), 2)\n",
        "        # Add label\n",
        "        label = f\"{cls_name} {conf:.2f}\"\n",
        "        cv2.putText(processed_image, label, (x1, y1 - 10),\n",
        "                   cv2.FONT_HERSHEY_SIMPLEX, 0.5, (0, 255, 0), 2)\n",
        "\n",
        "    return processed_image, bounding_boxes, class_names, confidences\n",
        "\n",
        "@app.post(\"/process-image/\")\n",
        "async def process_image_endpoint(file: UploadFile = File(...), prompt: str = Form(...)):\n",
        "    try:\n",
        "        # Read the uploaded image\n",
        "        image_data = await file.read()\n",
        "        image = Image.open(BytesIO(image_data)).convert(\"RGB\")\n",
        "        image_np = np.array(image)\n",
        "\n",
        "        # Process the image with YOLOv11\n",
        "        processed_image_np, bounding_boxes, class_names, confidences = process_image(image_np, prompt)\n",
        "\n",
        "        # Convert processed image to base64 for JSON response\n",
        "        processed_image_pil = Image.fromarray(processed_image_np)\n",
        "        buffer = BytesIO()\n",
        "        processed_image_pil.save(buffer, format=\"PNG\")\n",
        "        img_base64 = base64.b64encode(buffer.getvalue()).decode('utf-8')\n",
        "\n",
        "        # Count occurrences of each class\n",
        "        class_counts = {}\n",
        "        for cls_name in class_names:\n",
        "            class_counts[cls_name] = class_counts.get(cls_name, 0) + 1\n",
        "        \n",
        "        # Create class count string (e.g., \"human = 3, motorcycle = 5\")\n",
        "        class_count_str = \", \".join(f\"{cls} = {count}\" for cls, count in class_counts.items())\n",
        "        \n",
        "        # Create string representation of class list\n",
        "        classes_str = str(class_names)\n",
        "        \n",
        "        # Create string representation of confidences\n",
        "        confidences_str = str(confidences)\n",
        "        \n",
        "        # Create string representation of bounding boxes\n",
        "        bounding_boxes_str = str(bounding_boxes)\n",
        "\n",
        "        # Prepare response data\n",
        "        response_data = {\n",
        "            \"processed_image\": f\"{img_base64}\",\n",
        "            \"bounding_boxes\": bounding_boxes,        # [[x1, y1, x2, y2], ...]\n",
        "            \"bounding_boxes_str\": bounding_boxes_str, # String of list\n",
        "            \"classes\": class_names,                 # [\"class_name1\", \"class_name2\", ...]\n",
        "            \"classes_str\": classes_str,             # String of list\n",
        "            \"confidences\": confidences,             # [conf1, conf2, ...]\n",
        "            \"confidences_str\": confidences_str,     # String of list\n",
        "            \"class_counts\": class_count_str,        # \"human = 3, motorcycle = 5\"\n",
        "            \"message\": \"Image processed successfully\"\n",
        "        }\n",
        "\n",
        "        return JSONResponse(content=response_data, status_code=200)\n",
        "\n",
        "    except Exception as e:\n",
        "        return JSONResponse(content={\"error\": str(e)}, status_code=500)"
      ]
    },
    {
      "cell_type": "code",
      "execution_count": 7,
      "metadata": {
        "id": "J4kvt6VhyLxp"
      },
      "outputs": [],
      "source": [
        "\n",
        "\n",
        "# Function to start ngrok and FastAPI server\n",
        "async def start_server(Token_ngrok):\n",
        "    # Set your ngrok authtoken\n",
        "    ngrok.set_auth_token(Token_ngrok)  # Replace with your ngrok authtoken\n",
        "\n",
        "    # Start ngrok tunnel\n",
        "    public_url = ngrok.connect(8000, bind_tls=True).public_url\n",
        "    print(f\"ngrok public URL: {public_url}\")\n",
        "\n",
        "    # Configure and run the FastAPI server\n",
        "    config = uvicorn.Config(app, host=\"0.0.0.0\", port=8000)\n",
        "    server = uvicorn.Server(config)\n",
        "    await server.serve()"
      ]
    },
    {
      "cell_type": "code",
      "execution_count": null,
      "metadata": {},
      "outputs": [
        {
          "name": "stdout",
          "output_type": "stream",
          "text": [
            "                                                                                                    \r"
          ]
        },
        {
          "name": "stderr",
          "output_type": "stream",
          "text": [
            "INFO:     Started server process [39596]\n",
            "INFO:     Waiting for application startup.\n",
            "INFO:     Application startup complete.\n",
            "INFO:     Uvicorn running on http://0.0.0.0:8000 (Press CTRL+C to quit)\n"
          ]
        },
        {
          "name": "stdout",
          "output_type": "stream",
          "text": [
            "ngrok public URL: https://7a39-2001-fb1-c1-4d4c-adf2-ed0f-884a-442f.ngrok-free.app\n",
            "INFO:     2001:fb1:c1:4d4c:adf2:ed0f:884a:442f:0 - \"GET / HTTP/1.1\" 404 Not Found\n",
            "INFO:     2001:fb1:c1:4d4c:adf2:ed0f:884a:442f:0 - \"GET /favicon.ico HTTP/1.1\" 404 Not Found\n",
            "INFO:     20.218.238.122:0 - \"POST /process-image HTTP/1.1\" 307 Temporary Redirect\n",
            "INFO:     20.218.238.122:0 - \"POST /process-image/ HTTP/1.1\" 200 OK\n",
            "INFO:     20.218.238.122:0 - \"POST /process-image HTTP/1.1\" 307 Temporary Redirect\n",
            "INFO:     20.218.238.122:0 - \"POST /process-image/ HTTP/1.1\" 200 OK\n",
            "INFO:     20.218.238.122:0 - \"POST /process-image HTTP/1.1\" 307 Temporary Redirect\n",
            "INFO:     20.218.238.122:0 - \"POST /process-image/ HTTP/1.1\" 200 OK\n",
            "INFO:     20.218.238.122:0 - \"POST /process-image HTTP/1.1\" 307 Temporary Redirect\n",
            "INFO:     20.218.238.122:0 - \"POST /process-image/ HTTP/1.1\" 200 OK\n"
          ]
        }
      ],
      "source": [
        "from dotenv import load_dotenv\n",
        "import os\n",
        "from langchain_openai import ChatOpenAI\n",
        "\n",
        "# Load environment variables from .env file\n",
        "load_dotenv()\n",
        "\n",
        "# Use the API key from the environment\n",
        "# Token_ngrok = \"xxxxx\"\n",
        "\n",
        "Token_ngrok= os.getenv(\"NGROK_TOKEN_KEY\")\n",
        "\n",
        "asyncio.run(start_server(Token_ngrok ))"
      ]
    },
    {
      "cell_type": "markdown",
      "metadata": {
        "id": "Ivzn0NS8vKYC"
      },
      "source": []
    }
  ],
  "metadata": {
    "colab": {
      "provenance": []
    },
    "kernelspec": {
      "display_name": "torch",
      "language": "python",
      "name": "python3"
    },
    "language_info": {
      "codemirror_mode": {
        "name": "ipython",
        "version": 3
      },
      "file_extension": ".py",
      "mimetype": "text/x-python",
      "name": "python",
      "nbconvert_exporter": "python",
      "pygments_lexer": "ipython3",
      "version": "3.12.7"
    }
  },
  "nbformat": 4,
  "nbformat_minor": 0
}
