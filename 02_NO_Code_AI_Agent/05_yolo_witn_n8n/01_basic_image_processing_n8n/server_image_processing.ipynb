{
  "cells": [
    {
      "cell_type": "code",
      "execution_count": 5,
      "metadata": {
        "colab": {
          "base_uri": "https://localhost:8080/"
        },
        "id": "Asbef8W3vdID",
        "outputId": "797fdebd-661b-49a9-9504-154b38b27647"
      },
      "outputs": [
        {
          "name": "stdout",
          "output_type": "stream",
          "text": [
            "Requirement already satisfied: fastapi in /opt/anaconda3/envs/torch/lib/python3.12/site-packages (0.115.6)\n",
            "Requirement already satisfied: uvicorn in /opt/anaconda3/envs/torch/lib/python3.12/site-packages (0.34.0)\n",
            "Requirement already satisfied: pyngrok in /opt/anaconda3/envs/torch/lib/python3.12/site-packages (7.2.8)\n",
            "Requirement already satisfied: python-multipart in /opt/anaconda3/envs/torch/lib/python3.12/site-packages (0.0.20)\n",
            "Requirement already satisfied: pillow in /opt/anaconda3/envs/torch/lib/python3.12/site-packages (10.2.0)\n",
            "Requirement already satisfied: nest-asyncio in /opt/anaconda3/envs/torch/lib/python3.12/site-packages (1.6.0)\n",
            "Requirement already satisfied: starlette<0.42.0,>=0.40.0 in /opt/anaconda3/envs/torch/lib/python3.12/site-packages (from fastapi) (0.41.3)\n",
            "Requirement already satisfied: pydantic!=1.8,!=1.8.1,!=2.0.0,!=2.0.1,!=2.1.0,<3.0.0,>=1.7.4 in /opt/anaconda3/envs/torch/lib/python3.12/site-packages (from fastapi) (2.10.1)\n",
            "Requirement already satisfied: typing-extensions>=4.8.0 in /opt/anaconda3/envs/torch/lib/python3.12/site-packages (from fastapi) (4.12.2)\n",
            "Requirement already satisfied: click>=7.0 in /opt/anaconda3/envs/torch/lib/python3.12/site-packages (from uvicorn) (8.1.7)\n",
            "Requirement already satisfied: h11>=0.8 in /opt/anaconda3/envs/torch/lib/python3.12/site-packages (from uvicorn) (0.14.0)\n",
            "Requirement already satisfied: PyYAML>=5.1 in /opt/anaconda3/envs/torch/lib/python3.12/site-packages (from pyngrok) (6.0.2)\n",
            "Requirement already satisfied: annotated-types>=0.6.0 in /opt/anaconda3/envs/torch/lib/python3.12/site-packages (from pydantic!=1.8,!=1.8.1,!=2.0.0,!=2.0.1,!=2.1.0,<3.0.0,>=1.7.4->fastapi) (0.7.0)\n",
            "Requirement already satisfied: pydantic-core==2.27.1 in /opt/anaconda3/envs/torch/lib/python3.12/site-packages (from pydantic!=1.8,!=1.8.1,!=2.0.0,!=2.0.1,!=2.1.0,<3.0.0,>=1.7.4->fastapi) (2.27.1)\n",
            "Requirement already satisfied: anyio<5,>=3.4.0 in /opt/anaconda3/envs/torch/lib/python3.12/site-packages (from starlette<0.42.0,>=0.40.0->fastapi) (4.6.2.post1)\n",
            "Requirement already satisfied: idna>=2.8 in /opt/anaconda3/envs/torch/lib/python3.12/site-packages (from anyio<5,>=3.4.0->starlette<0.42.0,>=0.40.0->fastapi) (3.10)\n",
            "Requirement already satisfied: sniffio>=1.1 in /opt/anaconda3/envs/torch/lib/python3.12/site-packages (from anyio<5,>=3.4.0->starlette<0.42.0,>=0.40.0->fastapi) (1.3.1)\n",
            "Requirement already satisfied: python-dotenv in /opt/anaconda3/envs/torch/lib/python3.12/site-packages (1.0.1)\n"
          ]
        }
      ],
      "source": [
        "!pip install fastapi uvicorn pyngrok python-multipart pillow nest-asyncio\n",
        "!pip install python-dotenv\n"
      ]
    },
    {
      "cell_type": "code",
      "execution_count": 6,
      "metadata": {
        "id": "F3augn0WvFkx"
      },
      "outputs": [],
      "source": [
        "# Import necessary libraries\n",
        "import nest_asyncio\n",
        "import uvicorn\n",
        "from fastapi import FastAPI, File, UploadFile, Form\n",
        "from fastapi.responses import StreamingResponse, JSONResponse\n",
        "from pyngrok import ngrok\n",
        "import cv2\n",
        "import numpy as np\n",
        "from io import BytesIO\n",
        "from PIL import Image\n",
        "import asyncio\n",
        "\n",
        "# Apply nest_asyncio to allow running FastAPI in Jupyter\n",
        "nest_asyncio.apply()\n",
        "\n",
        "# Initialize FastAPI app\n",
        "app = FastAPI()\n",
        "\n",
        "# Health check endpoint\n",
        "@app.get(\"/health\")\n",
        "async def health_check():\n",
        "    return JSONResponse(content={\"status\": \"healthy\"}, status_code=200)\n",
        "\n",
        "\n",
        "def process_image(image: np.ndarray, prompt: str) -> np.ndarray:\n",
        "    # Copy image to avoid modifying original\n",
        "\n",
        "    # random rotate image\n",
        "    angle = np.random.randint(0, 360)\n",
        "    h, w = image.shape[:2]\n",
        "    center = (w // 2, h // 2)\n",
        "    rotation_matrix = cv2.getRotationMatrix2D(center, angle, 1.0)\n",
        "    rotated_image = cv2.warpAffine(image, rotation_matrix, (w, h))\n",
        "\n",
        "\n",
        "    image_with_text = rotated_image.copy()\n",
        "    \n",
        "    # Set font parameters\n",
        "    font = cv2.FONT_HERSHEY_SIMPLEX\n",
        "    font_scale = 1\n",
        "    thickness = 2\n",
        "    color = (255, 0, 0)  # Red text in RGB (will look blue if not converted to RGB)\n",
        "\n",
        "    # Put the text at the top-left corner\n",
        "    cv2.putText(image_with_text, prompt, (10, 30), font, font_scale, color, thickness, cv2.LINE_AA)\n",
        "\n",
        "    return image_with_text\n",
        "\n",
        "# FastAPI endpoint to handle image upload and prompt\n",
        "@app.post(\"/process-image/\")\n",
        "async def process_image_endpoint(file: UploadFile = File(...), prompt: str = Form(...)):\n",
        "    # Read the uploaded image\n",
        "    image_data = await file.read()\n",
        "    image = Image.open(BytesIO(image_data)).convert(\"RGB\")\n",
        "    image_np = np.array(image)\n",
        "\n",
        "    # Process the image based on the prompt\n",
        "    processed_image_np = process_image(image_np, prompt)\n",
        "\n",
        "    # Convert processed image back to bytes\n",
        "    processed_image_pil = Image.fromarray(processed_image_np)\n",
        "    output_buffer = BytesIO()\n",
        "    processed_image_pil.save(output_buffer, format=\"PNG\")\n",
        "    output_buffer.seek(0)\n",
        "\n",
        "    # Return the processed image as a streaming response\n",
        "    return StreamingResponse(output_buffer, media_type=\"image/png\")\n",
        "\n",
        "\n"
      ]
    },
    {
      "cell_type": "code",
      "execution_count": 7,
      "metadata": {
        "id": "J4kvt6VhyLxp"
      },
      "outputs": [],
      "source": [
        "\n",
        "\n",
        "# Function to start ngrok and FastAPI server\n",
        "async def start_server(Token_ngrok):\n",
        "    # Set your ngrok authtoken\n",
        "    ngrok.set_auth_token(Token_ngrok)  # Replace with your ngrok authtoken\n",
        "\n",
        "    # Start ngrok tunnel\n",
        "    public_url = ngrok.connect(8000, bind_tls=True).public_url\n",
        "    print(f\"ngrok public URL: {public_url}\")\n",
        "\n",
        "    # Configure and run the FastAPI server\n",
        "    config = uvicorn.Config(app, host=\"0.0.0.0\", port=8000)\n",
        "    server = uvicorn.Server(config)\n",
        "    await server.serve()"
      ]
    },
    {
      "cell_type": "code",
      "execution_count": null,
      "metadata": {},
      "outputs": [
        {
          "name": "stdout",
          "output_type": "stream",
          "text": [
            "                                                                                                    \r"
          ]
        },
        {
          "name": "stderr",
          "output_type": "stream",
          "text": [
            "INFO:     Started server process [39596]\n",
            "INFO:     Waiting for application startup.\n",
            "INFO:     Application startup complete.\n",
            "INFO:     Uvicorn running on http://0.0.0.0:8000 (Press CTRL+C to quit)\n"
          ]
        },
        {
          "name": "stdout",
          "output_type": "stream",
          "text": [
            "ngrok public URL: https://7a39-2001-fb1-c1-4d4c-adf2-ed0f-884a-442f.ngrok-free.app\n",
            "INFO:     2001:fb1:c1:4d4c:adf2:ed0f:884a:442f:0 - \"GET / HTTP/1.1\" 404 Not Found\n",
            "INFO:     2001:fb1:c1:4d4c:adf2:ed0f:884a:442f:0 - \"GET /favicon.ico HTTP/1.1\" 404 Not Found\n",
            "INFO:     20.218.238.122:0 - \"POST /process-image HTTP/1.1\" 307 Temporary Redirect\n",
            "INFO:     20.218.238.122:0 - \"POST /process-image/ HTTP/1.1\" 200 OK\n"
          ]
        }
      ],
      "source": [
        "from dotenv import load_dotenv\n",
        "import os\n",
        "from langchain_openai import ChatOpenAI\n",
        "\n",
        "# Load environment variables from .env file\n",
        "load_dotenv()\n",
        "\n",
        "# Use the API key from the environment\n",
        "# Token_ngrok = \"xxxxx\"\n",
        "\n",
        "Token_ngrok= os.getenv(\"NGROK_TOKEN_KEY\")\n",
        "\n",
        "asyncio.run(start_server(Token_ngrok ))"
      ]
    },
    {
      "cell_type": "markdown",
      "metadata": {
        "id": "Ivzn0NS8vKYC"
      },
      "source": []
    }
  ],
  "metadata": {
    "colab": {
      "provenance": []
    },
    "kernelspec": {
      "display_name": "torch",
      "language": "python",
      "name": "python3"
    },
    "language_info": {
      "codemirror_mode": {
        "name": "ipython",
        "version": 3
      },
      "file_extension": ".py",
      "mimetype": "text/x-python",
      "name": "python",
      "nbconvert_exporter": "python",
      "pygments_lexer": "ipython3",
      "version": "3.12.7"
    }
  },
  "nbformat": 4,
  "nbformat_minor": 0
}
