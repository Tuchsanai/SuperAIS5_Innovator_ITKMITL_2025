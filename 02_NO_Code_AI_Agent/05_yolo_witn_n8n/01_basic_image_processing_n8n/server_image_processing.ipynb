{
  "cells": [
    {
      "cell_type": "code",
      "execution_count": 5,
      "metadata": {
        "colab": {
          "base_uri": "https://localhost:8080/"
        },
        "id": "Asbef8W3vdID",
        "outputId": "797fdebd-661b-49a9-9504-154b38b27647"
      },
      "outputs": [
        {
          "name": "stdout",
          "output_type": "stream",
          "text": [
            "Requirement already satisfied: fastapi in /opt/anaconda3/envs/torch/lib/python3.12/site-packages (0.115.6)\n",
            "Requirement already satisfied: uvicorn in /opt/anaconda3/envs/torch/lib/python3.12/site-packages (0.34.0)\n",
            "Requirement already satisfied: pyngrok in /opt/anaconda3/envs/torch/lib/python3.12/site-packages (7.2.8)\n",
            "Requirement already satisfied: python-multipart in /opt/anaconda3/envs/torch/lib/python3.12/site-packages (0.0.20)\n",
            "Requirement already satisfied: pillow in /opt/anaconda3/envs/torch/lib/python3.12/site-packages (10.2.0)\n",
            "Requirement already satisfied: nest-asyncio in /opt/anaconda3/envs/torch/lib/python3.12/site-packages (1.6.0)\n",
            "Requirement already satisfied: starlette<0.42.0,>=0.40.0 in /opt/anaconda3/envs/torch/lib/python3.12/site-packages (from fastapi) (0.41.3)\n",
            "Requirement already satisfied: pydantic!=1.8,!=1.8.1,!=2.0.0,!=2.0.1,!=2.1.0,<3.0.0,>=1.7.4 in /opt/anaconda3/envs/torch/lib/python3.12/site-packages (from fastapi) (2.10.1)\n",
            "Requirement already satisfied: typing-extensions>=4.8.0 in /opt/anaconda3/envs/torch/lib/python3.12/site-packages (from fastapi) (4.12.2)\n",
            "Requirement already satisfied: click>=7.0 in /opt/anaconda3/envs/torch/lib/python3.12/site-packages (from uvicorn) (8.1.7)\n",
            "Requirement already satisfied: h11>=0.8 in /opt/anaconda3/envs/torch/lib/python3.12/site-packages (from uvicorn) (0.14.0)\n",
            "Requirement already satisfied: PyYAML>=5.1 in /opt/anaconda3/envs/torch/lib/python3.12/site-packages (from pyngrok) (6.0.2)\n",
            "Requirement already satisfied: annotated-types>=0.6.0 in /opt/anaconda3/envs/torch/lib/python3.12/site-packages (from pydantic!=1.8,!=1.8.1,!=2.0.0,!=2.0.1,!=2.1.0,<3.0.0,>=1.7.4->fastapi) (0.7.0)\n",
            "Requirement already satisfied: pydantic-core==2.27.1 in /opt/anaconda3/envs/torch/lib/python3.12/site-packages (from pydantic!=1.8,!=1.8.1,!=2.0.0,!=2.0.1,!=2.1.0,<3.0.0,>=1.7.4->fastapi) (2.27.1)\n",
            "Requirement already satisfied: anyio<5,>=3.4.0 in /opt/anaconda3/envs/torch/lib/python3.12/site-packages (from starlette<0.42.0,>=0.40.0->fastapi) (4.6.2.post1)\n",
            "Requirement already satisfied: idna>=2.8 in /opt/anaconda3/envs/torch/lib/python3.12/site-packages (from anyio<5,>=3.4.0->starlette<0.42.0,>=0.40.0->fastapi) (3.10)\n",
            "Requirement already satisfied: sniffio>=1.1 in /opt/anaconda3/envs/torch/lib/python3.12/site-packages (from anyio<5,>=3.4.0->starlette<0.42.0,>=0.40.0->fastapi) (1.3.1)\n",
            "Requirement already satisfied: python-dotenv in /opt/anaconda3/envs/torch/lib/python3.12/site-packages (1.0.1)\n"
          ]
        }
      ],
      "source": [
        "!pip install fastapi uvicorn pyngrok python-multipart pillow nest-asyncio\n",
        "!pip install python-dotenv\n"
      ]
    },
    {
      "cell_type": "code",
      "execution_count": 2,
      "metadata": {
        "id": "F3augn0WvFkx"
      },
      "outputs": [],
      "source": [
        "# Import necessary libraries\n",
        "import nest_asyncio\n",
        "import uvicorn\n",
        "from fastapi import FastAPI, File, UploadFile, Form\n",
        "from fastapi.responses import StreamingResponse, JSONResponse\n",
        "from pyngrok import ngrok\n",
        "import cv2\n",
        "import numpy as np\n",
        "from io import BytesIO\n",
        "from PIL import Image\n",
        "import asyncio\n",
        "\n",
        "# Apply nest_asyncio to allow running FastAPI in Jupyter\n",
        "nest_asyncio.apply()\n",
        "\n",
        "# Initialize FastAPI app\n",
        "app = FastAPI()\n",
        "\n",
        "# Health check endpoint\n",
        "@app.get(\"/health\")\n",
        "async def health_check():\n",
        "    return JSONResponse(content={\"status\": \"healthy\"}, status_code=200)\n",
        "\n",
        "\n",
        "def process_image(image: np.ndarray, prompt: str) -> np.ndarray:\n",
        "    # Copy image to avoid modifying original\n",
        "\n",
        "    # random rotate image\n",
        "    angle = np.random.randint(0, 360)\n",
        "    h, w = image.shape[:2]\n",
        "    center = (w // 2, h // 2)\n",
        "    rotation_matrix = cv2.getRotationMatrix2D(center, angle, 1.0)\n",
        "    rotated_image = cv2.warpAffine(image, rotation_matrix, (w, h))\n",
        "\n",
        "\n",
        "    image_with_text = rotated_image.copy()\n",
        "    \n",
        "    # Set font parameters\n",
        "    font = cv2.FONT_HERSHEY_SIMPLEX\n",
        "    font_scale = 1\n",
        "    thickness = 2\n",
        "    color = (255, 0, 0)  # Red text in RGB (will look blue if not converted to RGB)\n",
        "\n",
        "    # Put the text at the top-left corner\n",
        "    cv2.putText(image_with_text, prompt, (10, 30), font, font_scale, color, thickness, cv2.LINE_AA)\n",
        "\n",
        "    return image_with_text\n",
        "\n",
        "# FastAPI endpoint to handle image upload and prompt\n",
        "@app.post(\"/process-image/\")\n",
        "async def process_image_endpoint(file: UploadFile = File(...), prompt: str = Form(...)):\n",
        "    # Read the uploaded image\n",
        "    image_data = await file.read()\n",
        "    image = Image.open(BytesIO(image_data)).convert(\"RGB\")\n",
        "    image_np = np.array(image)\n",
        "\n",
        "    # Process the image based on the prompt\n",
        "    processed_image_np = process_image(image_np, prompt)\n",
        "\n",
        "    # Convert processed image back to bytes\n",
        "    processed_image_pil = Image.fromarray(processed_image_np)\n",
        "    output_buffer = BytesIO()\n",
        "    processed_image_pil.save(output_buffer, format=\"PNG\")\n",
        "    output_buffer.seek(0)\n",
        "\n",
        "    # Return the processed image as a streaming response\n",
        "    return StreamingResponse(output_buffer, media_type=\"image/png\")\n",
        "\n",
        "\n"
      ]
    },
    {
      "cell_type": "code",
      "execution_count": 3,
      "metadata": {
        "id": "J4kvt6VhyLxp"
      },
      "outputs": [],
      "source": [
        "\n",
        "\n",
        "# Function to start ngrok and FastAPI server\n",
        "async def start_server(Token_ngrok):\n",
        "    # Set your ngrok authtoken\n",
        "    ngrok.set_auth_token(Token_ngrok)  # Replace with your ngrok authtoken\n",
        "\n",
        "    # Start ngrok tunnel\n",
        "    public_url = ngrok.connect(8000, bind_tls=True).public_url\n",
        "    print(f\"ngrok public URL: {public_url}\")\n",
        "\n",
        "    # Configure and run the FastAPI server\n",
        "    config = uvicorn.Config(app, host=\"0.0.0.0\", port=8000)\n",
        "    server = uvicorn.Server(config)\n",
        "    await server.serve()"
      ]
    },
    {
      "cell_type": "code",
      "execution_count": null,
      "metadata": {},
      "outputs": [
        {
          "name": "stderr",
          "output_type": "stream",
          "text": [
            "INFO:     Started server process [70576]\n",
            "INFO:     Waiting for application startup.\n",
            "INFO:     Application startup complete.\n",
            "INFO:     Uvicorn running on http://0.0.0.0:8000 (Press CTRL+C to quit)\n"
          ]
        },
        {
          "name": "stdout",
          "output_type": "stream",
          "text": [
            "ngrok public URL: https://bdb2-2001-fb1-c1-4d4c-adf2-ed0f-884a-442f.ngrok-free.app\n",
            "INFO:     20.218.238.122:0 - \"POST /process-image HTTP/1.1\" 307 Temporary Redirect\n",
            "INFO:     20.218.238.122:0 - \"POST /process-image/ HTTP/1.1\" 200 OK\n"
          ]
        },
        {
          "name": "stderr",
          "output_type": "stream",
          "text": [
            "t=2025-05-20T22:24:34+0700 lvl=eror msg=\"session closed, starting reconnect loop\" obj=tunnels.session obj=csess id=0146690a8c99 err=\"read tcp [2001:fb1:c1:4d4c:adf2:ed0f:884a:442f]:57290->[2600:1f16:d83:1201::6e74:4]:443: read: connection reset by peer\"\n",
            "t=2025-05-20T22:24:49+0700 lvl=eror msg=\"heartbeat timeout, terminating session\" obj=tunnels.session obj=csess id=473d9a074429 clientid=014b24ff4e66863ebe97ecc5ab8ae159\n",
            "t=2025-05-20T22:40:55+0700 lvl=eror msg=\"session closed, starting reconnect loop\" obj=tunnels.session obj=csess id=0146690a8c99 err=\"read tcp [2001:fb1:c1:4d4c:adf2:ed0f:884a:442f]:53033->[2600:1f16:d83:1202::6e74:2]:443: read: connection reset by peer\"\n",
            "t=2025-05-20T22:41:10+0700 lvl=eror msg=\"heartbeat timeout, terminating session\" obj=tunnels.session obj=csess id=a3fba77bdd55 clientid=014b24ff4e66863ebe97ecc5ab8ae159\n",
            "t=2025-05-20T23:09:57+0700 lvl=eror msg=\"session closed, starting reconnect loop\" obj=tunnels.session obj=csess id=0146690a8c99 err=\"read EOF from remote peer\"\n",
            "t=2025-05-20T23:10:09+0700 lvl=eror msg=\"heartbeat timeout, terminating session\" obj=tunnels.session obj=csess id=3dbff0214b01 clientid=014b24ff4e66863ebe97ecc5ab8ae159\n",
            "t=2025-05-20T23:12:37+0700 lvl=eror msg=\"heartbeat timeout, terminating session\" obj=tunnels.session obj=csess id=9433ea6a535e clientid=014b24ff4e66863ebe97ecc5ab8ae159\n",
            "t=2025-05-20T23:12:37+0700 lvl=eror msg=\"session closed, starting reconnect loop\" obj=tunnels.session obj=csess id=0146690a8c99 err=\"session closed\"\n",
            "t=2025-05-20T23:17:53+0700 lvl=eror msg=\"session closed, starting reconnect loop\" obj=tunnels.session obj=csess id=0146690a8c99 err=\"read EOF from remote peer\"\n",
            "t=2025-05-20T23:18:10+0700 lvl=eror msg=\"heartbeat timeout, terminating session\" obj=tunnels.session obj=csess id=bb0e6625f205 clientid=014b24ff4e66863ebe97ecc5ab8ae159\n",
            "t=2025-05-20T23:28:42+0700 lvl=eror msg=\"session closed, starting reconnect loop\" obj=tunnels.session obj=csess id=0146690a8c99 err=\"read tcp 192.168.1.46:56979->3.133.228.214:443: read: connection reset by peer\"\n",
            "t=2025-05-20T23:29:06+0700 lvl=eror msg=\"heartbeat timeout, terminating session\" obj=tunnels.session obj=csess id=ccf6f05c3b70 clientid=014b24ff4e66863ebe97ecc5ab8ae159\n",
            "t=2025-05-20T23:32:48+0700 lvl=eror msg=\"session closed, starting reconnect loop\" obj=tunnels.session obj=csess id=0146690a8c99 err=\"read EOF from remote peer\"\n",
            "t=2025-05-20T23:32:57+0700 lvl=eror msg=\"heartbeat timeout, terminating session\" obj=tunnels.session obj=csess id=7c78b6515b4c clientid=014b24ff4e66863ebe97ecc5ab8ae159\n",
            "t=2025-05-20T23:35:35+0700 lvl=eror msg=\"session closed, starting reconnect loop\" obj=tunnels.session obj=csess id=0146690a8c99 err=\"read EOF from remote peer\"\n",
            "t=2025-05-20T23:35:37+0700 lvl=eror msg=\"heartbeat timeout, terminating session\" obj=tunnels.session obj=csess id=197758b4211a clientid=014b24ff4e66863ebe97ecc5ab8ae159\n",
            "t=2025-05-20T23:51:07+0700 lvl=eror msg=\"session closed, starting reconnect loop\" obj=tunnels.session obj=csess id=0146690a8c99 err=\"read tcp [2001:fb1:c1:4d4c:adf2:ed0f:884a:442f]:57831->[2600:1f16:d83:1201::6e74:4]:443: read: connection reset by peer\"\n",
            "t=2025-05-20T23:51:31+0700 lvl=eror msg=\"heartbeat timeout, terminating session\" obj=tunnels.session obj=csess id=d5874d3e7f32 clientid=014b24ff4e66863ebe97ecc5ab8ae159\n",
            "t=2025-05-21T01:07:38+0700 lvl=eror msg=\"session closed, starting reconnect loop\" obj=tunnels.session obj=csess id=0146690a8c99 err=\"read tcp [2001:fb1:c1:4d4c:adf2:ed0f:884a:442f]:57909->[2600:1f16:d83:1202::6e74:5]:443: read: connection reset by peer\"\n",
            "t=2025-05-21T01:07:53+0700 lvl=eror msg=\"heartbeat timeout, terminating session\" obj=tunnels.session obj=csess id=96c414eb6f79 clientid=014b24ff4e66863ebe97ecc5ab8ae159\n",
            "t=2025-05-21T01:24:49+0700 lvl=eror msg=\"session closed, starting reconnect loop\" obj=tunnels.session obj=csess id=0146690a8c99 err=\"read tcp [2001:fb1:c1:4d4c:adf2:ed0f:884a:442f]:65491->[2600:1f16:d83:1202::6e74:2]:443: read: connection reset by peer\"\n",
            "t=2025-05-21T01:25:05+0700 lvl=eror msg=\"heartbeat timeout, terminating session\" obj=tunnels.session obj=csess id=cea9a0f2236f clientid=014b24ff4e66863ebe97ecc5ab8ae159\n",
            "t=2025-05-21T01:31:13+0700 lvl=eror msg=\"session closed, starting reconnect loop\" obj=tunnels.session obj=csess id=0146690a8c99 err=\"read tcp [2001:fb1:c1:4d4c:adf2:ed0f:884a:442f]:49431->[2600:1f16:d83:1202::6e74:5]:443: read: connection reset by peer\"\n",
            "t=2025-05-21T01:31:28+0700 lvl=eror msg=\"heartbeat timeout, terminating session\" obj=tunnels.session obj=csess id=1ee6e285bd5d clientid=014b24ff4e66863ebe97ecc5ab8ae159\n",
            "t=2025-05-21T01:47:24+0700 lvl=eror msg=\"session closed, starting reconnect loop\" obj=tunnels.session obj=csess id=0146690a8c99 err=\"read tcp [2001:fb1:c1:4d4c:adf2:ed0f:884a:442f]:49563->[2600:1f16:d83:1202::6e74:2]:443: read: connection reset by peer\"\n",
            "t=2025-05-21T01:47:39+0700 lvl=eror msg=\"heartbeat timeout, terminating session\" obj=tunnels.session obj=csess id=4362f84b6f65 clientid=014b24ff4e66863ebe97ecc5ab8ae159\n",
            "t=2025-05-21T02:03:25+0700 lvl=eror msg=\"session closed, starting reconnect loop\" obj=tunnels.session obj=csess id=0146690a8c99 err=\"read tcp [2001:fb1:c1:4d4c:adf2:ed0f:884a:442f]:49746->[2600:1f16:d83:1202::6e74:5]:443: read: connection reset by peer\"\n",
            "t=2025-05-21T02:03:40+0700 lvl=eror msg=\"heartbeat timeout, terminating session\" obj=tunnels.session obj=csess id=0e91f4510c65 clientid=014b24ff4e66863ebe97ecc5ab8ae159\n",
            "t=2025-05-21T02:19:35+0700 lvl=eror msg=\"session closed, starting reconnect loop\" obj=tunnels.session obj=csess id=0146690a8c99 err=\"read tcp [2001:fb1:c1:4d4c:adf2:ed0f:884a:442f]:49894->[2600:1f16:d83:1200::6e74:3]:443: read: connection reset by peer\"\n",
            "t=2025-05-21T02:19:50+0700 lvl=eror msg=\"heartbeat timeout, terminating session\" obj=tunnels.session obj=csess id=0553b5339556 clientid=014b24ff4e66863ebe97ecc5ab8ae159\n",
            "t=2025-05-21T02:32:11+0700 lvl=eror msg=\"session closed, starting reconnect loop\" obj=tunnels.session obj=csess id=0146690a8c99 err=\"read tcp [2001:fb1:c1:4d4c:adf2:ed0f:884a:442f]:50106->[2600:1f16:d83:1201::6e74:1]:443: read: connection reset by peer\"\n",
            "t=2025-05-21T02:32:26+0700 lvl=eror msg=\"heartbeat timeout, terminating session\" obj=tunnels.session obj=csess id=bf5d331cc22c clientid=014b24ff4e66863ebe97ecc5ab8ae159\n",
            "t=2025-05-21T03:48:44+0700 lvl=eror msg=\"session closed, starting reconnect loop\" obj=tunnels.session obj=csess id=0146690a8c99 err=\"read tcp [2001:fb1:c1:4d4c:adf2:ed0f:884a:442f]:50234->[2600:1f16:d83:1200::6e74:0]:443: read: connection reset by peer\"\n",
            "t=2025-05-21T03:49:07+0700 lvl=eror msg=\"heartbeat timeout, terminating session\" obj=tunnels.session obj=csess id=690f06dc80c5 clientid=014b24ff4e66863ebe97ecc5ab8ae159\n",
            "t=2025-05-21T04:04:55+0700 lvl=eror msg=\"session closed, starting reconnect loop\" obj=tunnels.session obj=csess id=0146690a8c99 err=\"read tcp [2001:fb1:c1:4d4c:adf2:ed0f:884a:442f]:57845->[2600:1f16:d83:1200::6e74:3]:443: read: connection reset by peer\"\n",
            "t=2025-05-21T04:05:10+0700 lvl=eror msg=\"heartbeat timeout, terminating session\" obj=tunnels.session obj=csess id=dc192ddb91e2 clientid=014b24ff4e66863ebe97ecc5ab8ae159\n",
            "t=2025-05-21T04:20:56+0700 lvl=eror msg=\"session closed, starting reconnect loop\" obj=tunnels.session obj=csess id=0146690a8c99 err=\"read tcp [2001:fb1:c1:4d4c:adf2:ed0f:884a:442f]:58068->[2600:1f16:d83:1200::6e74:0]:443: read: connection reset by peer\"\n",
            "t=2025-05-21T04:21:10+0700 lvl=eror msg=\"heartbeat timeout, terminating session\" obj=tunnels.session obj=csess id=7d4e6c3bafb1 clientid=014b24ff4e66863ebe97ecc5ab8ae159\n"
          ]
        }
      ],
      "source": [
        "from dotenv import load_dotenv\n",
        "import os\n",
        "from langchain_openai import ChatOpenAI\n",
        "\n",
        "# Load environment variables from .env file\n",
        "load_dotenv()\n",
        "\n",
        "# Use the API key from the environment\n",
        "# Token_ngrok = \"xxxxx\"\n",
        "\n",
        "Token_ngrok= os.getenv(\"NGROK_TOKEN_KEY\")\n",
        "\n",
        "asyncio.run(start_server(Token_ngrok ))"
      ]
    },
    {
      "cell_type": "markdown",
      "metadata": {
        "id": "Ivzn0NS8vKYC"
      },
      "source": []
    },
    {
      "cell_type": "markdown",
      "metadata": {},
      "source": []
    }
  ],
  "metadata": {
    "colab": {
      "provenance": []
    },
    "kernelspec": {
      "display_name": "torch",
      "language": "python",
      "name": "python3"
    },
    "language_info": {
      "codemirror_mode": {
        "name": "ipython",
        "version": 3
      },
      "file_extension": ".py",
      "mimetype": "text/x-python",
      "name": "python",
      "nbconvert_exporter": "python",
      "pygments_lexer": "ipython3",
      "version": "3.12.7"
    }
  },
  "nbformat": 4,
  "nbformat_minor": 0
}
