{
  "cells": [
    {
      "cell_type": "code",
      "execution_count": 4,
      "metadata": {
        "colab": {
          "base_uri": "https://localhost:8080/"
        },
        "id": "Asbef8W3vdID",
        "outputId": "797fdebd-661b-49a9-9504-154b38b27647"
      },
      "outputs": [
        {
          "name": "stdout",
          "output_type": "stream",
          "text": [
            "Requirement already satisfied: fastapi in /usr/local/lib/python3.11/dist-packages (0.115.12)\n",
            "Requirement already satisfied: uvicorn in /usr/local/lib/python3.11/dist-packages (0.34.2)\n",
            "Requirement already satisfied: pyngrok in /usr/local/lib/python3.11/dist-packages (7.2.5)\n",
            "Collecting python-multipart\n",
            "  Downloading python_multipart-0.0.20-py3-none-any.whl.metadata (1.8 kB)\n",
            "Requirement already satisfied: pillow in /usr/local/lib/python3.11/dist-packages (11.1.0)\n",
            "Requirement already satisfied: nest-asyncio in /usr/local/lib/python3.11/dist-packages (1.6.0)\n",
            "Requirement already satisfied: starlette<0.47.0,>=0.40.0 in /usr/local/lib/python3.11/dist-packages (from fastapi) (0.46.2)\n",
            "Requirement already satisfied: pydantic!=1.8,!=1.8.1,!=2.0.0,!=2.0.1,!=2.1.0,<3.0.0,>=1.7.4 in /usr/local/lib/python3.11/dist-packages (from fastapi) (2.11.3)\n",
            "Requirement already satisfied: typing-extensions>=4.8.0 in /usr/local/lib/python3.11/dist-packages (from fastapi) (4.13.2)\n",
            "Requirement already satisfied: click>=7.0 in /usr/local/lib/python3.11/dist-packages (from uvicorn) (8.1.8)\n",
            "Requirement already satisfied: h11>=0.8 in /usr/local/lib/python3.11/dist-packages (from uvicorn) (0.14.0)\n",
            "Requirement already satisfied: PyYAML>=5.1 in /usr/local/lib/python3.11/dist-packages (from pyngrok) (6.0.2)\n",
            "Requirement already satisfied: annotated-types>=0.6.0 in /usr/local/lib/python3.11/dist-packages (from pydantic!=1.8,!=1.8.1,!=2.0.0,!=2.0.1,!=2.1.0,<3.0.0,>=1.7.4->fastapi) (0.7.0)\n",
            "Requirement already satisfied: pydantic-core==2.33.1 in /usr/local/lib/python3.11/dist-packages (from pydantic!=1.8,!=1.8.1,!=2.0.0,!=2.0.1,!=2.1.0,<3.0.0,>=1.7.4->fastapi) (2.33.1)\n",
            "Requirement already satisfied: typing-inspection>=0.4.0 in /usr/local/lib/python3.11/dist-packages (from pydantic!=1.8,!=1.8.1,!=2.0.0,!=2.0.1,!=2.1.0,<3.0.0,>=1.7.4->fastapi) (0.4.0)\n",
            "Requirement already satisfied: anyio<5,>=3.6.2 in /usr/local/lib/python3.11/dist-packages (from starlette<0.47.0,>=0.40.0->fastapi) (4.9.0)\n",
            "Requirement already satisfied: idna>=2.8 in /usr/local/lib/python3.11/dist-packages (from anyio<5,>=3.6.2->starlette<0.47.0,>=0.40.0->fastapi) (3.10)\n",
            "Requirement already satisfied: sniffio>=1.1 in /usr/local/lib/python3.11/dist-packages (from anyio<5,>=3.6.2->starlette<0.47.0,>=0.40.0->fastapi) (1.3.1)\n",
            "Downloading python_multipart-0.0.20-py3-none-any.whl (24 kB)\n",
            "Installing collected packages: python-multipart\n",
            "Successfully installed python-multipart-0.0.20\n"
          ]
        }
      ],
      "source": [
        "!pip install fastapi uvicorn pyngrok python-multipart pillow nest-asyncio"
      ]
    },
    {
      "cell_type": "code",
      "execution_count": null,
      "metadata": {
        "id": "F3augn0WvFkx"
      },
      "outputs": [],
      "source": [
        "# Import necessary libraries\n",
        "import nest_asyncio\n",
        "import uvicorn\n",
        "from fastapi import FastAPI, File, UploadFile, Form\n",
        "from fastapi.responses import StreamingResponse, JSONResponse\n",
        "from pyngrok import ngrok\n",
        "import cv2\n",
        "import numpy as np\n",
        "from io import BytesIO\n",
        "from PIL import Image\n",
        "import asyncio\n",
        "\n",
        "# Apply nest_asyncio to allow running FastAPI in Jupyter\n",
        "nest_asyncio.apply()\n",
        "\n",
        "# Initialize FastAPI app\n",
        "app = FastAPI()\n",
        "\n",
        "# Health check endpoint\n",
        "@app.get(\"/health\")\n",
        "async def health_check():\n",
        "    return JSONResponse(content={\"status\": \"healthy\"}, status_code=200)\n",
        "\n",
        "# Define the image processing function\n",
        "def process_image(image: np.ndarray, prompt: str) -> np.ndarray:\n",
        "    # Example: Convert to grayscale if prompt contains \"grayscale\"\n",
        "    if \"grayscale\" in prompt.lower():\n",
        "        processed_image = cv2.cvtColor(image, cv2.COLOR_RGB2GRAY)\n",
        "        # Convert back to 3 channels for consistency\n",
        "        processed_image = cv2.cvtColor(processed_image, cv2.COLOR_GRAY2RGB)\n",
        "    else:\n",
        "        # Default: return original image\n",
        "        processed_image = image\n",
        "    return processed_image\n",
        "\n",
        "# FastAPI endpoint to handle image upload and prompt\n",
        "@app.post(\"/process-image/\")\n",
        "async def process_image_endpoint(file: UploadFile = File(...), prompt: str = Form(...)):\n",
        "    # Read the uploaded image\n",
        "    image_data = await file.read()\n",
        "    image = Image.open(BytesIO(image_data)).convert(\"RGB\")\n",
        "    image_np = np.array(image)\n",
        "\n",
        "    # Process the image based on the prompt\n",
        "    processed_image_np = process_image(image_np, prompt)\n",
        "\n",
        "    # Convert processed image back to bytes\n",
        "    processed_image_pil = Image.fromarray(processed_image_np)\n",
        "    output_buffer = BytesIO()\n",
        "    processed_image_pil.save(output_buffer, format=\"PNG\")\n",
        "    output_buffer.seek(0)\n",
        "\n",
        "    # Return the processed image as a streaming response\n",
        "    return StreamingResponse(output_buffer, media_type=\"image/png\")\n",
        "\n",
        "\n"
      ]
    },
    {
      "cell_type": "code",
      "execution_count": 13,
      "metadata": {
        "id": "J4kvt6VhyLxp"
      },
      "outputs": [],
      "source": [
        "\n",
        "\n",
        "# Function to start ngrok and FastAPI server\n",
        "async def start_server(Token_ngrok):\n",
        "    # Set your ngrok authtoken\n",
        "    ngrok.set_auth_token(Token_ngrok)  # Replace with your ngrok authtoken\n",
        "\n",
        "    # Start ngrok tunnel\n",
        "    public_url = ngrok.connect(8000, bind_tls=True).public_url\n",
        "    print(f\"ngrok public URL: {public_url}\")\n",
        "\n",
        "    # Configure and run the FastAPI server\n",
        "    config = uvicorn.Config(app, host=\"0.0.0.0\", port=8000)\n",
        "    server = uvicorn.Server(config)\n",
        "    await server.serve()"
      ]
    },
    {
      "cell_type": "code",
      "execution_count": null,
      "metadata": {
        "colab": {
          "base_uri": "https://localhost:8080/"
        },
        "id": "DcO8v2W8vKoH",
        "outputId": "17b5d33c-3007-47da-f3c0-f6c536b06dad"
      },
      "outputs": [
        {
          "name": "stdout",
          "output_type": "stream",
          "text": [
            "ngrok public URL: https://711e-35-229-166-94.ngrok-free.app\n"
          ]
        },
        {
          "name": "stderr",
          "output_type": "stream",
          "text": [
            "INFO:     Started server process [208]\n",
            "INFO:     Waiting for application startup.\n",
            "INFO:     Application startup complete.\n",
            "INFO:     Uvicorn running on http://0.0.0.0:8000 (Press CTRL+C to quit)\n"
          ]
        },
        {
          "name": "stdout",
          "output_type": "stream",
          "text": [
            "INFO:     2001:fb1:c3:9d1d:59cd:c35c:a709:f306:0 - \"GET / HTTP/1.1\" 404 Not Found\n",
            "INFO:     2001:fb1:c3:9d1d:59cd:c35c:a709:f306:0 - \"GET /favicon.ico HTTP/1.1\" 404 Not Found\n"
          ]
        }
      ],
      "source": [
        "Token_ngrok = \"xxxxx\"\n",
        "# Run the server\n",
        "asyncio.run(start_server(Token_ngrok ))"
      ]
    },
    {
      "cell_type": "markdown",
      "metadata": {
        "id": "Ivzn0NS8vKYC"
      },
      "source": []
    }
  ],
  "metadata": {
    "colab": {
      "provenance": []
    },
    "kernelspec": {
      "display_name": "Python 3",
      "name": "python3"
    },
    "language_info": {
      "name": "python"
    }
  },
  "nbformat": 4,
  "nbformat_minor": 0
}
