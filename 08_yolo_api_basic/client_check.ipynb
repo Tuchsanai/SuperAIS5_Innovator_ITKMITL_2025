{
 "cells": [
  {
   "cell_type": "code",
   "execution_count": null,
   "id": "f757fb75",
   "metadata": {},
   "outputs": [],
   "source": [
    "import requests\n",
    "from io import BytesIO\n",
    "from PIL import Image\n",
    "\n",
    "# API endpoint URL (replace with your ngrok URL or localhost)\n",
    "API_URL = \"http://localhost:8000/process-image/\"\n",
    "\n",
    "# Test health check\n",
    "response = requests.get(API_URL.replace(\"process-image/\", \"health\"))\n",
    "if response.status_code == 200:\n",
    "    print(\"Health Check:\", response.json())\n",
    "else:\n",
    "    print(f\"Health Check Failed: {response.status_code}\")\n"
   ]
  },
  {
   "cell_type": "code",
   "execution_count": null,
   "id": "ed69e3c8",
   "metadata": {},
   "outputs": [],
   "source": [
    "\n",
    "# Test image processing\n",
    "image_path = \"test_image.png\"  # Replace with your image path\n",
    "prompt = \"grayscale\"\n",
    "\n",
    "with open(image_path, \"rb\") as image_file:\n",
    "    files = {\"file\": (\"image.png\", image_file, \"image/png\")}\n",
    "    data = {\"prompt\": prompt}\n",
    "    response = requests.post(API_URL, files=files, data=data)\n",
    "\n",
    "if response.status_code == 200:\n",
    "    processed_image = Image.open(BytesIO(response.content))\n",
    "    processed_image.save(\"processed_image.png\")\n",
    "    print(\"Image processed and saved as 'processed_image.png'\")\n",
    "else:\n",
    "    print(f\"Image processing failed: {response.status_code}\")\n",
    "    print(response.text)"
   ]
  }
 ],
 "metadata": {
  "language_info": {
   "name": "python"
  }
 },
 "nbformat": 4,
 "nbformat_minor": 5
}
